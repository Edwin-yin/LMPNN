{
 "cells": [
  {
   "cell_type": "code",
   "execution_count": 3,
   "id": "de5ca797-337d-4816-bcff-c89db4ae07bb",
   "metadata": {},
   "outputs": [],
   "source": [
    "import torch\n",
    "\n",
    "from src.structure.knowledge_graph import KnowledgeGraph\n",
    "\n",
    "from src.structure.knowledge_graph_index import KGIndex\n",
    "\n",
    "kgi = KGIndex.load(\"data/FB15k-237-betae/kgindex.json\")"
   ]
  },
  {
   "cell_type": "code",
   "execution_count": 4,
   "id": "9f54800b-437a-4939-bbdc-508d6b3f27bf",
   "metadata": {},
   "outputs": [],
   "source": [
    "def load_from_uma_pretrain(name='complex', kg='fb15k-237'):\n",
    "    state_dict = torch.load(f\"/home/zwanggc/Project/Truth-Value-Reasoning-on-Knowledge-Graphs/pretrain/uma-kge/{kg}/{kg}-{name}.pt\")\n",
    "    model_state_dict = state_dict['model'][0]\n",
    "    print(model_state_dict.keys())\n",
    "    ent_emb = model_state_dict['_entity_embedder.embeddings.weight']\n",
    "    rel_emb = model_state_dict['_relation_embedder.embeddings.weight']\n",
    "    # ent_emb = model_state_dict['_entity_embedder.embeddings.weight']\n",
    "    # rel_emb = model_state_dict['_relation_embedder.embeddings.weight']\n",
    "    return ent_emb, rel_emb"
   ]
  },
  {
   "cell_type": "code",
   "execution_count": 4,
   "id": "ffbffa3b-cd03-4a24-b67b-bb1e8b2afb70",
   "metadata": {},
   "outputs": [
    {
     "data": {
      "text/plain": [
       "'-/location/country/form_of_government'"
      ]
     },
     "execution_count": 4,
     "metadata": {},
     "output_type": "execute_result"
    }
   ],
   "source": [
    "kgi.inverse_relation_id_to_name[1]"
   ]
  },
  {
   "cell_type": "code",
   "execution_count": null,
   "id": "0e1b9164-8630-4679-9573-542ce3617c97",
   "metadata": {},
   "outputs": [],
   "source": [
    "train_kg = KnowledgeGraph.create(\"data/FB15k-237-betae/train_kg.tsv\", kgi)"
   ]
  },
  {
   "cell_type": "code",
   "execution_count": null,
   "id": "d122853d-ebca-4a59-b9c7-a1f2016dc89f",
   "metadata": {},
   "outputs": [],
   "source": [
    "print(kgi.inverse_relation_id_to_name[244])\n",
    "print(kgi.inverse_relation_id_to_name[245])\n",
    "print(train_kg.ht2r[(812, 748)])\n",
    "print(train_kg.ht2r[(748, 812)])"
   ]
  },
  {
   "cell_type": "code",
   "execution_count": 7,
   "id": "a4a41eb3-fb1e-434b-858b-63ad683d7e87",
   "metadata": {},
   "outputs": [],
   "source": [
    "valid_kg = KnowledgeGraph.create(\"data/FB15k-237-betae/valid_kg.tsv\", kgi)"
   ]
  },
  {
   "cell_type": "code",
   "execution_count": 8,
   "id": "3486a05e-cf45-4d7d-aa42-063e7e6b1dc8",
   "metadata": {},
   "outputs": [
    {
     "name": "stdout",
     "output_type": "stream",
     "text": [
      "[245]\n",
      "[244]\n"
     ]
    }
   ],
   "source": [
    "print(valid_kg.ht2r[(812, 748)])\n",
    "print(valid_kg.ht2r[(748, 812)])"
   ]
  },
  {
   "cell_type": "markdown",
   "id": "9adf04dc-9db5-4d9d-b42e-bca1d4cc8fb9",
   "metadata": {},
   "source": [
    "# Conclusion\n",
    "\n",
    "In the current konwledge graph representation\n",
    "- relationship and the inverse relationship is contained. The triples are paired\n",
    "- train KG is the subset of valid KG, valid KG is the subset of test KG\n"
   ]
  },
  {
   "cell_type": "markdown",
   "id": "b3542ef5-c488-41e4-885d-d873e9de511c",
   "metadata": {},
   "source": [
    "# Converting Checkpoints"
   ]
  },
  {
   "cell_type": "markdown",
   "id": "6fe60e03-179a-4789-aea2-0c4811242bf3",
   "metadata": {},
   "source": [
    "## analysis data indix"
   ]
  },
  {
   "cell_type": "code",
   "execution_count": 9,
   "id": "b23a86f7-de84-48ad-bdad-8132bbb80b8e",
   "metadata": {},
   "outputs": [],
   "source": [
    "uma_rel_dict_file = \"/home/zwanggc/Project/Truth-Value-Reasoning-on-Knowledge-Graphs/pretrain/uma-kge/fb15k-237/fb15k-237/relation_ids.del\""
   ]
  },
  {
   "cell_type": "code",
   "execution_count": 10,
   "id": "c44f0c64-250e-49de-8653-b37e406b2180",
   "metadata": {},
   "outputs": [],
   "source": [
    "uma_rel_dict_try = dict()\n",
    "with open(uma_rel_dict_file, 'rt') as f:\n",
    "    i = 0\n",
    "    for line in f.readlines():\n",
    "        uma_id, uma_str = line.strip().split()\n",
    "        uma_id = int(uma_id)\n",
    "        uma_rel_dict_try[2*uma_id] = '+' + uma_str\n",
    "        uma_rel_dict_try[2*uma_id+1] = '-' + uma_str"
   ]
  },
  {
   "cell_type": "code",
   "execution_count": 11,
   "id": "ce7ccdfe-1bbe-4ca7-bc94-95f1aa19712a",
   "metadata": {},
   "outputs": [],
   "source": [
    "for key, uma_str in uma_rel_dict_try.items():\n",
    "    kgi_str = kgi.inverse_relation_id_to_name[key]\n",
    "    assert kgi_str == uma_str"
   ]
  },
  {
   "cell_type": "code",
   "execution_count": 12,
   "id": "0e44ad9d-2d77-4416-91f0-c8c00da588b1",
   "metadata": {},
   "outputs": [],
   "source": [
    "uma_ent_dict_file = \"/home/zwanggc/Project/Truth-Value-Reasoning-on-Knowledge-Graphs/pretrain/uma-kge/fb15k-237/fb15k-237/entity_ids.del\""
   ]
  },
  {
   "cell_type": "code",
   "execution_count": 13,
   "id": "214ce203-52a5-4db4-8f1d-32a24a8061bd",
   "metadata": {},
   "outputs": [],
   "source": [
    "uma_ent_dict_try = dict()\n",
    "with open(uma_ent_dict_file, 'rt') as f:\n",
    "    i = 0\n",
    "    for line in f.readlines():\n",
    "        uma_id, uma_str = line.strip().split()\n",
    "        uma_id = int(uma_id)\n",
    "        uma_ent_dict_try[uma_id] = uma_str"
   ]
  },
  {
   "cell_type": "code",
   "execution_count": 14,
   "id": "36d3a7ed-3103-4a04-b905-b8823f048db4",
   "metadata": {},
   "outputs": [],
   "source": [
    "for key, uma_str in kgi.inverse_entity_id_to_name.items():\n",
    "    kgi_str = uma_ent_dict_try[key]\n",
    "    if uma_str != kgi_str:\n",
    "        print(uma_str, kgi_str)"
   ]
  },
  {
   "cell_type": "code",
   "execution_count": 15,
   "id": "668df484-f099-4b21-8e24-5f8287852e75",
   "metadata": {},
   "outputs": [
    {
     "data": {
      "text/plain": [
       "14505"
      ]
     },
     "execution_count": 15,
     "metadata": {},
     "output_type": "execute_result"
    }
   ],
   "source": [
    "len(kgi.inverse_entity_id_to_name)"
   ]
  },
  {
   "cell_type": "markdown",
   "id": "3cb223ad-4bb2-4684-a6d6-eb8a05b57e14",
   "metadata": {},
   "source": [
    "## RotatE"
   ]
  },
  {
   "cell_type": "code",
   "execution_count": 18,
   "id": "d01a8444-c449-4df7-923f-6509c1c7c5ee",
   "metadata": {},
   "outputs": [
    {
     "name": "stdout",
     "output_type": "stream",
     "text": [
      "odict_keys(['_base_model._entity_embedder._embeddings.weight', '_base_model._relation_embedder._embeddings.weight', '_entity_embedder._embeddings.weight', '_relation_embedder._embeddings.weight'])\n"
     ]
    },
    {
     "ename": "KeyError",
     "evalue": "'_entity_embedder.embeddings.weight'",
     "output_type": "error",
     "traceback": [
      "\u001b[0;31m---------------------------------------------------------------------------\u001b[0m",
      "\u001b[0;31mKeyError\u001b[0m                                  Traceback (most recent call last)",
      "\u001b[0;32m/tmp/ipykernel_29108/1299180277.py\u001b[0m in \u001b[0;36m<module>\u001b[0;34m\u001b[0m\n\u001b[1;32m      6\u001b[0m \u001b[0;34m\u001b[0m\u001b[0m\n\u001b[1;32m      7\u001b[0m \u001b[0;34m\u001b[0m\u001b[0m\n\u001b[0;32m----> 8\u001b[0;31m \u001b[0ment_emb\u001b[0m\u001b[0;34m,\u001b[0m \u001b[0mrel_emb\u001b[0m \u001b[0;34m=\u001b[0m \u001b[0mload_from_uma_pretrain\u001b[0m\u001b[0;34m(\u001b[0m\u001b[0mname\u001b[0m\u001b[0;34m=\u001b[0m\u001b[0;34m'rotate'\u001b[0m\u001b[0;34m)\u001b[0m\u001b[0;34m\u001b[0m\u001b[0;34m\u001b[0m\u001b[0m\n\u001b[0m\u001b[1;32m      9\u001b[0m \u001b[0;34m\u001b[0m\u001b[0m\n\u001b[1;32m     10\u001b[0m \u001b[0mnbp\u001b[0m\u001b[0;34m.\u001b[0m\u001b[0m_entity_embedding\u001b[0m\u001b[0;34m.\u001b[0m\u001b[0mweight\u001b[0m\u001b[0;34m.\u001b[0m\u001b[0mdata\u001b[0m \u001b[0;34m=\u001b[0m \u001b[0ment_emb\u001b[0m\u001b[0;34m[\u001b[0m\u001b[0;34m:\u001b[0m\u001b[0mnbp\u001b[0m\u001b[0;34m.\u001b[0m\u001b[0mnum_entities\u001b[0m\u001b[0;34m,\u001b[0m \u001b[0;34m:\u001b[0m\u001b[0;34m]\u001b[0m\u001b[0;34m\u001b[0m\u001b[0;34m\u001b[0m\u001b[0m\n",
      "\u001b[0;32m/tmp/ipykernel_29108/3621374904.py\u001b[0m in \u001b[0;36mload_from_uma_pretrain\u001b[0;34m(name, kg)\u001b[0m\n\u001b[1;32m      3\u001b[0m     \u001b[0mmodel_state_dict\u001b[0m \u001b[0;34m=\u001b[0m \u001b[0mstate_dict\u001b[0m\u001b[0;34m[\u001b[0m\u001b[0;34m'model'\u001b[0m\u001b[0;34m]\u001b[0m\u001b[0;34m[\u001b[0m\u001b[0;36m0\u001b[0m\u001b[0;34m]\u001b[0m\u001b[0;34m\u001b[0m\u001b[0;34m\u001b[0m\u001b[0m\n\u001b[1;32m      4\u001b[0m     \u001b[0mprint\u001b[0m\u001b[0;34m(\u001b[0m\u001b[0mmodel_state_dict\u001b[0m\u001b[0;34m.\u001b[0m\u001b[0mkeys\u001b[0m\u001b[0;34m(\u001b[0m\u001b[0;34m)\u001b[0m\u001b[0;34m)\u001b[0m\u001b[0;34m\u001b[0m\u001b[0;34m\u001b[0m\u001b[0m\n\u001b[0;32m----> 5\u001b[0;31m     \u001b[0ment_emb\u001b[0m \u001b[0;34m=\u001b[0m \u001b[0mmodel_state_dict\u001b[0m\u001b[0;34m[\u001b[0m\u001b[0;34m'_entity_embedder.embeddings.weight'\u001b[0m\u001b[0;34m]\u001b[0m\u001b[0;34m\u001b[0m\u001b[0;34m\u001b[0m\u001b[0m\n\u001b[0m\u001b[1;32m      6\u001b[0m     \u001b[0mrel_emb\u001b[0m \u001b[0;34m=\u001b[0m \u001b[0mmodel_state_dict\u001b[0m\u001b[0;34m[\u001b[0m\u001b[0;34m'_relation_embedder.embeddings.weight'\u001b[0m\u001b[0;34m]\u001b[0m\u001b[0;34m\u001b[0m\u001b[0;34m\u001b[0m\u001b[0m\n\u001b[1;32m      7\u001b[0m     \u001b[0;31m# ent_emb = model_state_dict['_entity_embedder.embeddings.weight']\u001b[0m\u001b[0;34m\u001b[0m\u001b[0;34m\u001b[0m\u001b[0;34m\u001b[0m\u001b[0m\n",
      "\u001b[0;31mKeyError\u001b[0m: '_entity_embedder.embeddings.weight'"
     ]
    }
   ],
   "source": [
    "from src.structure.nbp_rotate import RotatE\n",
    "\n",
    "nbp = RotatE(num_entities=kgi.num_entities,\n",
    "        num_relations=kgi.num_relations,\n",
    "        embedding_dim=128)\n",
    "\n",
    "\n",
    "ent_emb, rel_emb = load_from_uma_pretrain(name='rotate')\n",
    "\n",
    "nbp._entity_embedding.weight.data = ent_emb[:nbp.num_entities, :]\n",
    "\n",
    "for i in range(237):\n",
    "    my_id = 2*i\n",
    "    my_rid = 2 * i + 1\n",
    "    kge_id = i\n",
    "    kge_rid = 237 + i\n",
    "    nbp._relation_embedding.weight.data[my_id] = rel_emb[kge_id]\n",
    "    nbp._relation_embedding.weight.data[my_rid] = rel_emb[kge_rid]\n",
    "\n",
    "torch.save(nbp.state_dict(), \"pretrain/uma-nbp/fb15k-237-rotate.pt\")"
   ]
  },
  {
   "cell_type": "markdown",
   "id": "e0d3ac0c-b583-494d-a1c4-5cfb91cde013",
   "metadata": {},
   "source": [
    "## TransE"
   ]
  },
  {
   "cell_type": "code",
   "execution_count": null,
   "id": "cb19fbf8-1dab-47a4-af11-c9e00916116e",
   "metadata": {},
   "outputs": [],
   "source": [
    "from src.structure.nbp_transe import TransE\n",
    "\n",
    "nbp = TransE(num_entities=kgi.num_entities,\n",
    "        num_relations=kgi.num_relations,\n",
    "        embedding_dim=128,p=1,margin=1,scale=1,device='cpu')\n",
    "\n",
    "\n",
    "ent_emb, rel_emb = load_from_uma_pretrain(name='transe')\n",
    "\n",
    "nbp._entity_embedding.weight.data = ent_emb[:nbp.num_entities, :]\n",
    "\n",
    "for i in range(237):\n",
    "    my_id = 2*i\n",
    "    my_rid = 2 * i + 1\n",
    "    kge_id = i\n",
    "    kge_rid = 237 + i\n",
    "    nbp._relation_embedding.weight.data[my_id] = rel_emb[kge_id]\n",
    "    nbp._relation_embedding.weight.data[my_rid] = rel_emb[kge_rid]\n",
    "\n",
    "torch.save(nbp.state_dict(), \"pretrain/uma-nbp/fb15k-237-transe.pt\")"
   ]
  },
  {
   "cell_type": "markdown",
   "id": "51dc1e8a-56e5-40ed-a8a6-8d0e7eeb2acb",
   "metadata": {},
   "source": [
    "## DistMult"
   ]
  },
  {
   "cell_type": "code",
   "execution_count": null,
   "id": "ed5b0399-ab25-4253-8603-a8e594092cbc",
   "metadata": {},
   "outputs": [],
   "source": [
    "from src.structure.nbp_distmult import DistMult\n",
    "\n",
    "nbp = DistMult(num_entities=kgi.num_entities,\n",
    "        num_relations=kgi.num_relations,\n",
    "        embedding_dim=256)\n",
    "\n",
    "\n",
    "ent_emb, rel_emb = load_from_uma_pretrain(name='distmult')\n",
    "\n",
    "nbp._entity_embedding.weight.data = ent_emb[:nbp.num_entities, :]\n",
    "\n",
    "for i in range(237):\n",
    "    my_id = 2*i\n",
    "    my_rid = 2 * i + 1\n",
    "    kge_id = i\n",
    "    kge_rid = 237 + i\n",
    "    nbp._relation_embedding.weight.data[my_id] = rel_emb[kge_id]\n",
    "    nbp._relation_embedding.weight.data[my_rid] = rel_emb[kge_rid]\n",
    "\n",
    "torch.save(nbp.state_dict(), \"pretrain/uma-nbp/fb15k-237-distmult.pt\")"
   ]
  },
  {
   "cell_type": "markdown",
   "id": "e92b9a83-f525-414b-97d0-48eed9bc84be",
   "metadata": {},
   "source": [
    "## ConvE"
   ]
  },
  {
   "cell_type": "code",
   "execution_count": 4,
   "id": "3425e4cb-9b34-4c20-9fc0-744476126a0a",
   "metadata": {},
   "outputs": [
    {
     "name": "stdout",
     "output_type": "stream",
     "text": [
      "_scorer.convolution.weight torch.Size([32, 1, 3, 3])\n",
      "_scorer.convolution.bias torch.Size([32])\n",
      "_scorer.bn1.running_mean torch.Size([32])\n",
      "_scorer.bn1.running_var torch.Size([32])\n",
      "_scorer.bn1.num_batches_tracked torch.Size([])\n",
      "_scorer.bn2.running_mean torch.Size([288])\n",
      "_scorer.bn2.running_var torch.Size([288])\n",
      "_scorer.bn2.num_batches_tracked torch.Size([])\n",
      "_scorer.projection.weight torch.Size([288, 15488])\n",
      "_scorer.projection.bias torch.Size([288])\n",
      "_base_model._entity_embedder.embeddings.weight torch.Size([14541, 289])\n",
      "_base_model._relation_embedder.embeddings.weight torch.Size([474, 289])\n",
      "_base_model._scorer.convolution.weight torch.Size([32, 1, 3, 3])\n",
      "_base_model._scorer.convolution.bias torch.Size([32])\n",
      "_base_model._scorer.bn1.running_mean torch.Size([32])\n",
      "_base_model._scorer.bn1.running_var torch.Size([32])\n",
      "_base_model._scorer.bn1.num_batches_tracked torch.Size([])\n",
      "_base_model._scorer.bn2.running_mean torch.Size([288])\n",
      "_base_model._scorer.bn2.running_var torch.Size([288])\n",
      "_base_model._scorer.bn2.num_batches_tracked torch.Size([])\n",
      "_base_model._scorer.projection.weight torch.Size([288, 15488])\n",
      "_base_model._scorer.projection.bias torch.Size([288])\n",
      "_entity_embedder.embeddings.weight torch.Size([14541, 289])\n",
      "_relation_embedder.embeddings.weight torch.Size([474, 289])\n"
     ]
    }
   ],
   "source": [
    "state_dict = torch.load(\"/home/zwanggc/Project/Truth-Value-Reasoning-on-Knowledge-Graphs/pretrain/uma-kge/fb15k-237/fb15k-237-conve.pt\")\n",
    "model_state_dict = state_dict['model'][0]\n",
    "for k in model_state_dict.keys():\n",
    "    print(k, model_state_dict[k].shape)"
   ]
  },
  {
   "cell_type": "code",
   "execution_count": 5,
   "id": "7b4be2b4-c929-4df4-b886-4a071c2e89d4",
   "metadata": {},
   "outputs": [
    {
     "data": {
      "text/plain": [
       "tensor([-0.0693,  0.0062, -0.0652,  ..., -0.2642, -0.2789, -0.2581])"
      ]
     },
     "execution_count": 5,
     "metadata": {},
     "output_type": "execute_result"
    }
   ],
   "source": [
    "model_state_dict['_entity_embedder.embeddings.weight'][:, 0]"
   ]
  },
  {
   "cell_type": "code",
   "execution_count": 3,
   "id": "38a56288-9a5c-4c17-b07b-6dddde4a2e5b",
   "metadata": {},
   "outputs": [],
   "source": [
    "from src.structure.nbp_conve import ConvE\n",
    "\n",
    "nbp = ConvE(num_entities=kgi.num_entities,\n",
    "            num_relations=kgi.num_relations,\n",
    "            embedding_dim=289,\n",
    "            device='cpu')"
   ]
  },
  {
   "cell_type": "code",
   "execution_count": 6,
   "id": "15268c67-da21-4156-9397-ca656b1147dd",
   "metadata": {},
   "outputs": [
    {
     "name": "stdout",
     "output_type": "stream",
     "text": [
      "odict_keys(['_scorer.convolution.weight', '_scorer.convolution.bias', '_scorer.bn1.running_mean', '_scorer.bn1.running_var', '_scorer.bn1.num_batches_tracked', '_scorer.bn2.running_mean', '_scorer.bn2.running_var', '_scorer.bn2.num_batches_tracked', '_scorer.projection.weight', '_scorer.projection.bias', '_base_model._entity_embedder.embeddings.weight', '_base_model._relation_embedder.embeddings.weight', '_base_model._scorer.convolution.weight', '_base_model._scorer.convolution.bias', '_base_model._scorer.bn1.running_mean', '_base_model._scorer.bn1.running_var', '_base_model._scorer.bn1.num_batches_tracked', '_base_model._scorer.bn2.running_mean', '_base_model._scorer.bn2.running_var', '_base_model._scorer.bn2.num_batches_tracked', '_base_model._scorer.projection.weight', '_base_model._scorer.projection.bias', '_entity_embedder.embeddings.weight', '_relation_embedder.embeddings.weight'])\n"
     ]
    }
   ],
   "source": [
    "ent_emb, rel_emb = load_from_uma_pretrain(name='conve')\n",
    "\n",
    "nbp._entity_embedding.weight.data = ent_emb[:nbp.num_entities, :]\n",
    "\n",
    "for i in range(237):\n",
    "    my_id = 2*i\n",
    "    my_rid = 2 * i + 1\n",
    "    kge_id = i\n",
    "    kge_rid = 237 + i\n",
    "    nbp._relation_embedding.weight.data[my_id] = rel_emb[kge_id]\n",
    "    nbp._relation_embedding.weight.data[my_rid] = rel_emb[kge_rid]"
   ]
  },
  {
   "cell_type": "code",
   "execution_count": 11,
   "id": "5e631ea8-4c37-4f82-ba9b-b422a7b78df1",
   "metadata": {},
   "outputs": [
    {
     "data": {
      "text/plain": [
       "_IncompatibleKeys(missing_keys=['_entity_embedding.weight', '_relation_embedding.weight'], unexpected_keys=['_base_model._entity_embedder.embeddings.weight', '_base_model._relation_embedder.embeddings.weight', '_base_model._scorer.convolution.weight', '_base_model._scorer.convolution.bias', '_base_model._scorer.bn1.running_mean', '_base_model._scorer.bn1.running_var', '_base_model._scorer.bn1.num_batches_tracked', '_base_model._scorer.bn2.running_mean', '_base_model._scorer.bn2.running_var', '_base_model._scorer.bn2.num_batches_tracked', '_base_model._scorer.projection.weight', '_base_model._scorer.projection.bias', '_entity_embedder.embeddings.weight', '_relation_embedder.embeddings.weight'])"
      ]
     },
     "execution_count": 11,
     "metadata": {},
     "output_type": "execute_result"
    }
   ],
   "source": [
    "nbp.load_state_dict(model_state_dict, strict=False)"
   ]
  },
  {
   "cell_type": "code",
   "execution_count": 12,
   "id": "22c409b6-74cc-4011-885a-464840ef511d",
   "metadata": {},
   "outputs": [],
   "source": [
    "torch.save(nbp.state_dict(), \"pretrain/uma-nbp/fb15k-237-conve.pt\")"
   ]
  },
  {
   "cell_type": "markdown",
   "id": "cc1bbc20-83fe-4bff-88d1-59545614ca36",
   "metadata": {},
   "source": [
    "## RESCAL"
   ]
  },
  {
   "cell_type": "code",
   "execution_count": 14,
   "id": "84ef39c2-92e8-4cc5-b8b2-65b0c22d4d04",
   "metadata": {},
   "outputs": [
    {
     "name": "stdout",
     "output_type": "stream",
     "text": [
      "_entity_embedder.embeddings.weight torch.Size([14541, 128])\n",
      "_relation_embedder.embeddings.weight torch.Size([237, 16384])\n"
     ]
    }
   ],
   "source": [
    "state_dict = torch.load(\"/home/zwanggc/Project/Truth-Value-Reasoning-on-Knowledge-Graphs/pretrain/uma-kge/fb15k-237/fb15k-237-rescal.pt\")\n",
    "model_state_dict = state_dict['model'][0]\n",
    "for k in model_state_dict.keys():\n",
    "    print(k, model_state_dict[k].shape)"
   ]
  },
  {
   "cell_type": "code",
   "execution_count": 9,
   "id": "78742715-51f0-494d-9112-c5535bfe02c7",
   "metadata": {},
   "outputs": [
    {
     "name": "stdout",
     "output_type": "stream",
     "text": [
      "odict_keys(['_entity_embedder.embeddings.weight', '_relation_embedder.embeddings.weight'])\n",
      "torch.Size([14541, 128])\n",
      "torch.Size([237, 16384])\n"
     ]
    }
   ],
   "source": [
    "from src.structure.nbp_rescal import RESCAL\n",
    "\n",
    "nbp = RESCAL(num_entities=kgi.num_entities,\n",
    "        num_relations=kgi.num_relations,\n",
    "        embedding_dim=128)\n",
    "\n",
    "\n",
    "ent_emb, rel_emb = load_from_uma_pretrain(name='rescal')\n",
    "\n",
    "print(ent_emb.shape)\n",
    "print(rel_emb.shape)\n",
    "\n",
    "nbp._entity_embedding.weight.data = ent_emb[:nbp.num_entities, :]\n",
    "\n",
    "for i in range(237):\n",
    "    my_id = 2*i\n",
    "    my_rid = 2 * i + 1\n",
    "    kge_id = i\n",
    "    kge_rid = 237 + i\n",
    "    nbp._relation_embedding.weight.data[my_id] = rel_emb[kge_id]\n",
    "    nbp._relation_embedding.weight.data[my_rid] = rel_emb[kge_id].reshape(128, 128).transpose(0, 1).reshape(-1)\n",
    "\n",
    "torch.save(nbp.state_dict(), \"pretrain/uma-nbp/fb15k-237-rescal.pt\")"
   ]
  },
  {
   "cell_type": "code",
   "execution_count": null,
   "id": "14c8630c-9cbe-4135-b45a-8c7a69e75f85",
   "metadata": {},
   "outputs": [],
   "source": []
  }
 ],
 "metadata": {
  "kernelspec": {
   "display_name": "base",
   "language": "python",
   "name": "python3"
  },
  "language_info": {
   "codemirror_mode": {
    "name": "ipython",
    "version": 3
   },
   "file_extension": ".py",
   "mimetype": "text/x-python",
   "name": "python",
   "nbconvert_exporter": "python",
   "pygments_lexer": "ipython3",
   "version": "3.9.12 (main, Jun  1 2022, 06:36:29) \n[Clang 12.0.0 ]"
  },
  "vscode": {
   "interpreter": {
    "hash": "7abe3cfd65fcba439c7ccba03648698e2e9f7f79a5e95fc5ff87ab0b775c45e6"
   }
  }
 },
 "nbformat": 4,
 "nbformat_minor": 5
}
