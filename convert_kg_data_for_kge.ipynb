{
 "cells": [
  {
   "cell_type": "code",
   "execution_count": 2,
   "metadata": {},
   "outputs": [
    {
     "data": {
      "text/plain": [
       "'\\nPlease ensure that KGE is installed\\n'"
      ]
     },
     "execution_count": 2,
     "metadata": {},
     "output_type": "execute_result"
    }
   ],
   "source": [
    "\"\"\"\n",
    "Please ensure that KGE is installed\n",
    "\"\"\""
   ]
  },
  {
   "attachments": {},
   "cell_type": "markdown",
   "metadata": {},
   "source": [
    "## Begin with analyzing the existing knowledge graph\n",
    "\n",
    "### Conclusion:\n",
    "\n",
    "Existing files has the same number of triples, with the observed entities and relations in the training set.\n",
    "\n",
    "However, we already has populate the reciprocal reverse."
   ]
  },
  {
   "cell_type": "code",
   "execution_count": 3,
   "metadata": {},
   "outputs": [],
   "source": [
    "import os\n",
    "import yaml"
   ]
  },
  {
   "cell_type": "code",
   "execution_count": 4,
   "metadata": {},
   "outputs": [],
   "source": [
    "from src.structure.knowledge_graph_index import KGIndex"
   ]
  },
  {
   "cell_type": "code",
   "execution_count": 5,
   "metadata": {},
   "outputs": [],
   "source": [
    "from src.structure.knowledge_graph import KnowledgeGraph"
   ]
  },
  {
   "cell_type": "code",
   "execution_count": 6,
   "metadata": {},
   "outputs": [],
   "source": [
    "kgidx = KGIndex.load(\"data/FB15k-237-betae/kgindex.json\")"
   ]
  },
  {
   "cell_type": "code",
   "execution_count": 7,
   "metadata": {},
   "outputs": [],
   "source": [
    "train_kg = KnowledgeGraph.create(triple_files=\"data/FB15k-237-betae/train_kg.tsv\", kgindex=kgidx)"
   ]
  },
  {
   "cell_type": "code",
   "execution_count": 8,
   "metadata": {},
   "outputs": [],
   "source": [
    "valid_kg = KnowledgeGraph.create(triple_files=\"data/FB15k-237-betae/valid_kg.tsv\", kgindex=kgidx)"
   ]
  },
  {
   "cell_type": "code",
   "execution_count": 9,
   "metadata": {},
   "outputs": [],
   "source": [
    "test_kg = KnowledgeGraph.create(triple_files=\"data/FB15k-237-betae/test_kg.tsv\", kgindex=kgidx)"
   ]
  },
  {
   "attachments": {},
   "cell_type": "markdown",
   "metadata": {},
   "source": [
    "## Mimic the output of the preprocessing code in the kge\n",
    "\n",
    "populate the triple files\n",
    "jpopulate the config"
   ]
  },
  {
   "cell_type": "code",
   "execution_count": 10,
   "metadata": {},
   "outputs": [],
   "source": [
    "output_folder = \"kge/data\"\n",
    "name = \"FB15k-237-betae\""
   ]
  },
  {
   "cell_type": "code",
   "execution_count": 11,
   "metadata": {},
   "outputs": [],
   "source": [
    "config = {\"dataset\": {\n",
    "    \"name\": name,\n",
    "    \"num_entities\": kgidx.num_entities,\n",
    "    \"num_relations\": kgidx.num_relations // 2,\n",
    "\n",
    "    \"files.train.filename\": \"train.tsv\",\n",
    "    \"files.train.size\": train_kg.num_triples // 2,\n",
    "    \"files.train.type\": \"triples\",\n",
    "\n",
    "    \"files.valid_without_unseen.filename\": \"valid.tsv\",\n",
    "    \"files.valid_without_unseen.size\": valid_kg.num_triples // 2,\n",
    "    \"files.valid_without_unseen.type\": \"triples\",\n",
    "\n",
    "    \"files.valid.filename\": \"valid.tsv\",\n",
    "    \"files.valid.size\": valid_kg.num_triples // 2,\n",
    "    \"files.valid.type\": \"triples\",\n",
    "\n",
    "    \"files.test_without_unseen.filename\": \"test.tsv\",\n",
    "    \"files.test_without_unseen.size\": test_kg.num_triples // 2,\n",
    "    \"files.test_without_unseen.type\": \"triples\",\n",
    "\n",
    "    \"files.test.filename\": \"test.tsv\",\n",
    "    \"files.test.size\": test_kg.num_triples // 2,\n",
    "    \"files.test.type\": \"triples\",\n",
    "}}"
   ]
  },
  {
   "cell_type": "code",
   "execution_count": 12,
   "metadata": {},
   "outputs": [],
   "source": [
    "os.makedirs(os.path.join(output_folder, name), exist_ok=True)\n",
    "kgidx.dump_id2name(entity_id_file=os.path.join(output_folder, name, \"entity_ids.del\"),\n",
    "                   relation_id_file=os.path.join(output_folder, name, \"relation_ids.del\"),\n",
    "                   rel_dup=False)\n",
    "train_kg.dump_without_betae_type_reciprocal_relation(os.path.join(output_folder, name, \"train.tsv\"))\n",
    "valid_kg.dump_without_betae_type_reciprocal_relation(os.path.join(output_folder, name, \"valid.tsv\"))\n",
    "test_kg.dump_without_betae_type_reciprocal_relation( os.path.join(output_folder, name, \"test.tsv\"))\n",
    "f = open(os.path.join(output_folder, name, \"valid.del\"), \"wt\")\n",
    "f.close()\n",
    "with open(os.path.join(output_folder, name, \"dataset.yaml\"), \"wt\") as f:\n",
    "    f.write(yaml.dump(config))"
   ]
  },
  {
   "cell_type": "code",
   "execution_count": null,
   "metadata": {},
   "outputs": [],
   "source": []
  }
 ],
 "metadata": {
  "kernelspec": {
   "display_name": "base",
   "language": "python",
   "name": "python3"
  },
  "language_info": {
   "codemirror_mode": {
    "name": "ipython",
    "version": 3
   },
   "file_extension": ".py",
   "mimetype": "text/x-python",
   "name": "python",
   "nbconvert_exporter": "python",
   "pygments_lexer": "ipython3",
   "version": "3.9.12"
  },
  "orig_nbformat": 4,
  "vscode": {
   "interpreter": {
    "hash": "645a4bd9068247f9d66e65d0674fd32fd7412bfbe8ca43dbc146888e6a2d68c2"
   }
  }
 },
 "nbformat": 4,
 "nbformat_minor": 2
}
